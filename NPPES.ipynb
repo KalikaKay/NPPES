{
 "cells": [
  {
   "cell_type": "markdown",
   "id": "027ba00f-820b-4040-b9f2-0b100934d4a6",
   "metadata": {},
   "source": [
    "# Get the Data\n",
    "\n",
    "\n",
    "The NPI data file is too large to open using the usual methodology. Make use of the chunksize parameter in the panda's funtion to split the data into workable sizes. Use the columns data file to identify and parse out the columns that are needed. Finally, create separate tables for each subset of data and export them into a csv file. "
   ]
  },
  {
   "cell_type": "code",
   "execution_count": 1,
   "id": "03a9c108-6382-4f9e-9d38-36b8f7afdc7a",
   "metadata": {},
   "outputs": [],
   "source": [
    "import pandas as pd\n",
    "import numpy as np\n",
    "KEY = 'NPI'"
   ]
  },
  {
   "cell_type": "code",
   "execution_count": 7,
   "id": "e057865d-be81-4724-8bca-5071389618ef",
   "metadata": {},
   "outputs": [],
   "source": [
    "def get_file():\n",
    "    reader = pd.read_csv(\"npidata_pfile_20050523-20211010.csv\", chunksize=200000,low_memory=False,header=0)\n",
    "    return reader\n",
    "columns = pd.read_csv(\"npidata_pfile_20050523-20211010_FileHeader.csv\")"
   ]
  },
  {
   "cell_type": "code",
   "execution_count": 9,
   "id": "0aa1183a-1d44-4f23-984e-83c5a02b3ab7",
   "metadata": {},
   "outputs": [],
   "source": [
    "taxonomy = columns.columns.str.contains(\"taxonomy\", case=False)\n",
    "taxonomy = columns.columns[taxonomy].values\n",
    "main = columns.drop(columns=taxonomy)\n",
    "taxonomy = np.append(taxonomy, KEY)"
   ]
  },
  {
   "cell_type": "code",
   "execution_count": 4,
   "id": "54d7e064-2e14-4574-a73c-889c553dd8ac",
   "metadata": {},
   "outputs": [],
   "source": [
    "address = columns.columns.str.contains(\"address\", case=False)\n",
    "address = columns.columns[address].values\n",
    "main = main.drop(columns=address)\n",
    "address = np.append(address, KEY)"
   ]
  },
  {
   "cell_type": "code",
   "execution_count": 5,
   "id": "071d4761-3d0d-4206-9b47-8c1bf27bcb96",
   "metadata": {},
   "outputs": [],
   "source": [
    "op = columns.columns.str.contains(\"other provider\", case=False)\n",
    "op = columns.columns[op].values\n",
    "main = main.drop(columns=op)\n",
    "op = np.append(op, KEY)"
   ]
  },
  {
   "cell_type": "code",
   "execution_count": 6,
   "id": "2f17d21a-ff3b-40ae-bd96-6469c03b75f0",
   "metadata": {},
   "outputs": [],
   "source": [
    "pl = columns.columns.str.contains(\"provider license\", case=False)\n",
    "pl = columns.columns[pl].values\n",
    "main = main.drop(columns=pl)\n",
    "pl = np.append(pl, KEY)"
   ]
  },
  {
   "cell_type": "code",
   "execution_count": 7,
   "id": "afac59eb-aea9-461a-bfda-329e8ba3bdb7",
   "metadata": {},
   "outputs": [],
   "source": [
    "po = columns.columns.str.contains(\"provider other\", case=False)\n",
    "po = columns.columns[po].values\n",
    "main = main.drop(columns=po)\n",
    "po = np.append(po, KEY)"
   ]
  },
  {
   "cell_type": "code",
   "execution_count": 10,
   "id": "4276bf36-65dc-4e7e-935c-ee58a4c97e0e",
   "metadata": {},
   "outputs": [],
   "source": [
    "ao = columns.columns.str.contains(\"authorized official\", case=False)\n",
    "ao = columns.columns[ao].values\n",
    "main = main.drop(columns=ao)\n",
    "ao = np.append(ao, KEY)"
   ]
  },
  {
   "cell_type": "code",
   "execution_count": 9,
   "id": "cd8a929e-3255-40c0-9fe2-59e4a7793195",
   "metadata": {},
   "outputs": [],
   "source": [
    "parent = columns.columns.str.contains(\"parent\", case=False)\n",
    "parent = columns.columns[parent].values\n",
    "main = main.drop(columns=parent).columns.values\n",
    "parent = np.append(parent, KEY)"
   ]
  },
  {
   "cell_type": "code",
   "execution_count": 10,
   "id": "0b35d6cd-936d-4608-b6e8-1eb71b01a4ce",
   "metadata": {},
   "outputs": [],
   "source": [
    "tablecolumns = [(main, \"main\"), (parent, \"parent\"), (taxonomy, \"taxonomy\"), (address, \"address\")]\n",
    "for cols in tablecolumns:\n",
    "    table = pd.concat([chunk[cols[0]] for chunk in get_file()], ignore_index=True)\n",
    "    table.to_csv(cols[1] +\".csv\", index=False)\n",
    "\n"
   ]
  },
  {
   "cell_type": "code",
   "execution_count": 13,
   "id": "52473075-aa60-46e4-8957-4b867d594da6",
   "metadata": {},
   "outputs": [],
   "source": [
    "#Havign a look at the ao file.\n",
    "ao_table = pd.concat([chunk[ao] for chunk in get_file()], ignore_index=True)\n",
    "ao_table.to_csv(\"authorizedofficial.csv\", index=False)"
   ]
  },
  {
   "cell_type": "markdown",
   "id": "b898fbd0-1a51-43da-ae32-f58a9649d7e8",
   "metadata": {},
   "source": [
    "# Cleanup"
   ]
  },
  {
   "cell_type": "code",
   "execution_count": 245,
   "id": "032047ee-d4f0-4c63-8888-ec335aa088b7",
   "metadata": {},
   "outputs": [
    {
     "name": "stdout",
     "output_type": "stream",
     "text": [
      "<class 'pandas.core.frame.DataFrame'>\n",
      "RangeIndex: 7054121 entries, 0 to 7054120\n",
      "Data columns (total 17 columns):\n",
      " #   Column                                                                      Dtype \n",
      "---  ------                                                                      ----- \n",
      " 0   Provider First Line Business Mailing Address                                object\n",
      " 1   Provider Second Line Business Mailing Address                               object\n",
      " 2   Provider Business Mailing Address City Name                                 object\n",
      " 3   Provider Business Mailing Address State Name                                object\n",
      " 4   Provider Business Mailing Address Postal Code                               object\n",
      " 5   Provider Business Mailing Address Country Code (If outside U.S.)            object\n",
      " 6   Provider Business Mailing Address Telephone Number                          object\n",
      " 7   Provider Business Mailing Address Fax Number                                object\n",
      " 8   Provider First Line Business Practice Location Address                      object\n",
      " 9   Provider Second Line Business Practice Location Address                     object\n",
      " 10  Provider Business Practice Location Address City Name                       object\n",
      " 11  Provider Business Practice Location Address State Name                      object\n",
      " 12  Provider Business Practice Location Address Postal Code                     object\n",
      " 13  Provider Business Practice Location Address Country Code (If outside U.S.)  object\n",
      " 14  Provider Business Practice Location Address Telephone Number                object\n",
      " 15  Provider Business Practice Location Address Fax Number                      object\n",
      " 16  NPI                                                                         int64 \n",
      "dtypes: int64(1), object(16)\n",
      "memory usage: 914.9+ MB\n"
     ]
    }
   ],
   "source": [
    "address = pd.read_csv('address.csv', low_memory=False)\n",
    "address.info()"
   ]
  },
  {
   "cell_type": "code",
   "execution_count": 247,
   "id": "cf92ddb8-5eb8-4dfc-902c-dd4c103628b3",
   "metadata": {},
   "outputs": [],
   "source": [
    "address_types = [\"mailing\", \"location\"]\n",
    "new_names = [\"First Line\", \"Second Line\", \"City\", \"State\", \"Postal Code\", \"Country Code\", \"Telephone\", \"Fax\"]\n",
    "col_change = {\"NPI\" : \"NPI\"}\n",
    "i = 0\n",
    "for address_type in address_types:\n",
    "    cols = address.columns.str.contains(address_type, case=False)\n",
    "    cols = address.columns[cols].values\n",
    "    subset = new_names\n",
    "    cols = np.append(cols, KEY)\n",
    "    tbl = address[cols].reset_index(drop=True)\n",
    "    for n in new_names:\n",
    "        s = tbl.columns.str.contains(n) \n",
    "        s = tbl.columns[s].values\n",
    "        col_change[s[0]] =  n\n",
    "    tbl.rename(columns=col_change, inplace=True)\n",
    "    tbl['Type'] = address_type\n",
    "    tbl = tbl.dropna(subset = subset, how='all') \n",
    "    if i == 0:\n",
    "        address_table = tbl\n",
    "    else:\n",
    "        address_table = pd.concat([address_table, tbl])\n",
    "    i +=1\n",
    "    \n",
    "address_table.to_csv(\"cleaned_addressess.csv\", index=False)"
   ]
  },
  {
   "cell_type": "code",
   "execution_count": 248,
   "id": "63141606-aa26-433d-94f7-9d7c70fd348c",
   "metadata": {},
   "outputs": [
    {
     "name": "stdout",
     "output_type": "stream",
     "text": [
      "<class 'pandas.core.frame.DataFrame'>\n",
      "RangeIndex: 7054121 entries, 0 to 7054120\n",
      "Data columns (total 46 columns):\n",
      " #   Column                                          Dtype \n",
      "---  ------                                          ----- \n",
      " 0   Healthcare Provider Taxonomy Code_1             object\n",
      " 1   Healthcare Provider Primary Taxonomy Switch_1   object\n",
      " 2   Healthcare Provider Taxonomy Code_2             object\n",
      " 3   Healthcare Provider Primary Taxonomy Switch_2   object\n",
      " 4   Healthcare Provider Taxonomy Code_3             object\n",
      " 5   Healthcare Provider Primary Taxonomy Switch_3   object\n",
      " 6   Healthcare Provider Taxonomy Code_4             object\n",
      " 7   Healthcare Provider Primary Taxonomy Switch_4   object\n",
      " 8   Healthcare Provider Taxonomy Code_5             object\n",
      " 9   Healthcare Provider Primary Taxonomy Switch_5   object\n",
      " 10  Healthcare Provider Taxonomy Code_6             object\n",
      " 11  Healthcare Provider Primary Taxonomy Switch_6   object\n",
      " 12  Healthcare Provider Taxonomy Code_7             object\n",
      " 13  Healthcare Provider Primary Taxonomy Switch_7   object\n",
      " 14  Healthcare Provider Taxonomy Code_8             object\n",
      " 15  Healthcare Provider Primary Taxonomy Switch_8   object\n",
      " 16  Healthcare Provider Taxonomy Code_9             object\n",
      " 17  Healthcare Provider Primary Taxonomy Switch_9   object\n",
      " 18  Healthcare Provider Taxonomy Code_10            object\n",
      " 19  Healthcare Provider Primary Taxonomy Switch_10  object\n",
      " 20  Healthcare Provider Taxonomy Code_11            object\n",
      " 21  Healthcare Provider Primary Taxonomy Switch_11  object\n",
      " 22  Healthcare Provider Taxonomy Code_12            object\n",
      " 23  Healthcare Provider Primary Taxonomy Switch_12  object\n",
      " 24  Healthcare Provider Taxonomy Code_13            object\n",
      " 25  Healthcare Provider Primary Taxonomy Switch_13  object\n",
      " 26  Healthcare Provider Taxonomy Code_14            object\n",
      " 27  Healthcare Provider Primary Taxonomy Switch_14  object\n",
      " 28  Healthcare Provider Taxonomy Code_15            object\n",
      " 29  Healthcare Provider Primary Taxonomy Switch_15  object\n",
      " 30  Healthcare Provider Taxonomy Group_1            object\n",
      " 31  Healthcare Provider Taxonomy Group_2            object\n",
      " 32  Healthcare Provider Taxonomy Group_3            object\n",
      " 33  Healthcare Provider Taxonomy Group_4            object\n",
      " 34  Healthcare Provider Taxonomy Group_5            object\n",
      " 35  Healthcare Provider Taxonomy Group_6            object\n",
      " 36  Healthcare Provider Taxonomy Group_7            object\n",
      " 37  Healthcare Provider Taxonomy Group_8            object\n",
      " 38  Healthcare Provider Taxonomy Group_9            object\n",
      " 39  Healthcare Provider Taxonomy Group_10           object\n",
      " 40  Healthcare Provider Taxonomy Group_11           object\n",
      " 41  Healthcare Provider Taxonomy Group_12           object\n",
      " 42  Healthcare Provider Taxonomy Group_13           object\n",
      " 43  Healthcare Provider Taxonomy Group_14           object\n",
      " 44  Healthcare Provider Taxonomy Group_15           object\n",
      " 45  NPI                                             int64 \n",
      "dtypes: int64(1), object(45)\n",
      "memory usage: 2.4+ GB\n"
     ]
    }
   ],
   "source": [
    "taxonomy = pd.read_csv('taxonomy.csv', low_memory=False)\n",
    "taxonomy.info()"
   ]
  },
  {
   "cell_type": "code",
   "execution_count": 249,
   "id": "c6b41afd-6abf-4a3a-98cc-4a89bc724b26",
   "metadata": {},
   "outputs": [
    {
     "data": {
      "text/plain": [
       "array(['Healthcare Provider Primary Taxonomy Switch',\n",
       "       'Healthcare Provider Taxonomy Code',\n",
       "       'Healthcare Provider Taxonomy Group', 'NPI'], dtype='<U43')"
      ]
     },
     "execution_count": 249,
     "metadata": {},
     "output_type": "execute_result"
    }
   ],
   "source": [
    "titles = []\n",
    "numbers = []\n",
    "for cols in taxonomy.columns:\n",
    "    title = cols.split(\"_\")\n",
    "    titles = np.append(titles, title[0])\n",
    "    if len(title) == 2:\n",
    "        numbers = np.append(numbers, title[1])\n",
    "titles = np.unique(titles)\n",
    "numbers = np.unique(numbers)\n",
    "titles"
   ]
  },
  {
   "cell_type": "code",
   "execution_count": 250,
   "id": "2bb34162-830e-4c05-ab4d-b0020d7d94b3",
   "metadata": {},
   "outputs": [
    {
     "data": {
      "text/plain": [
       "array(['1', '10', '11', '12', '13', '14', '15', '2', '3', '4', '5', '6',\n",
       "       '7', '8', '9'], dtype='<U32')"
      ]
     },
     "execution_count": 250,
     "metadata": {},
     "output_type": "execute_result"
    }
   ],
   "source": [
    "numbers"
   ]
  },
  {
   "cell_type": "code",
   "execution_count": 251,
   "id": "39020d2f-1eea-4aa3-8b63-707d7b029b39",
   "metadata": {},
   "outputs": [
    {
     "data": {
      "text/plain": [
       "array(['Healthcare Provider Primary Taxonomy Switch',\n",
       "       'Healthcare Provider Taxonomy Code',\n",
       "       'Healthcare Provider Taxonomy Group'], dtype='<U43')"
      ]
     },
     "execution_count": 251,
     "metadata": {},
     "output_type": "execute_result"
    }
   ],
   "source": [
    "subset = titles[titles != KEY]\n",
    "subset"
   ]
  },
  {
   "cell_type": "code",
   "execution_count": 271,
   "id": "70a30174-eb57-4174-8584-022d53045899",
   "metadata": {},
   "outputs": [
    {
     "name": "stdout",
     "output_type": "stream",
     "text": [
      "working on taxonomy number 1\n",
      "working on taxonomy number 10\n",
      "working on taxonomy number 11\n",
      "working on taxonomy number 12\n",
      "working on taxonomy number 13\n",
      "working on taxonomy number 14\n",
      "working on taxonomy number 15\n",
      "working on taxonomy number 2\n",
      "working on taxonomy number 3\n",
      "working on taxonomy number 4\n",
      "working on taxonomy number 5\n",
      "working on taxonomy number 6\n",
      "working on taxonomy number 7\n",
      "working on taxonomy number 8\n",
      "working on taxonomy number 9\n"
     ]
    },
    {
     "data": {
      "text/html": [
       "<div>\n",
       "<style scoped>\n",
       "    .dataframe tbody tr th:only-of-type {\n",
       "        vertical-align: middle;\n",
       "    }\n",
       "\n",
       "    .dataframe tbody tr th {\n",
       "        vertical-align: top;\n",
       "    }\n",
       "\n",
       "    .dataframe thead th {\n",
       "        text-align: right;\n",
       "    }\n",
       "</style>\n",
       "<table border=\"1\" class=\"dataframe\">\n",
       "  <thead>\n",
       "    <tr style=\"text-align: right;\">\n",
       "      <th></th>\n",
       "      <th>Healthcare Provider Taxonomy Group</th>\n",
       "      <th>Healthcare Provider Taxonomy Code</th>\n",
       "      <th>Healthcare Provider Primary Taxonomy Switch</th>\n",
       "      <th>NPI</th>\n",
       "    </tr>\n",
       "  </thead>\n",
       "  <tbody>\n",
       "    <tr>\n",
       "      <th>0</th>\n",
       "      <td>NaN</td>\n",
       "      <td>207X00000X</td>\n",
       "      <td>Y</td>\n",
       "      <td>1679576722</td>\n",
       "    </tr>\n",
       "    <tr>\n",
       "      <th>1</th>\n",
       "      <td>NaN</td>\n",
       "      <td>207RC0000X</td>\n",
       "      <td>Y</td>\n",
       "      <td>1588667638</td>\n",
       "    </tr>\n",
       "    <tr>\n",
       "      <th>2</th>\n",
       "      <td>NaN</td>\n",
       "      <td>251G00000X</td>\n",
       "      <td>Y</td>\n",
       "      <td>1497758544</td>\n",
       "    </tr>\n",
       "    <tr>\n",
       "      <th>4</th>\n",
       "      <td>NaN</td>\n",
       "      <td>174400000X</td>\n",
       "      <td>N</td>\n",
       "      <td>1215930367</td>\n",
       "    </tr>\n",
       "    <tr>\n",
       "      <th>5</th>\n",
       "      <td>NaN</td>\n",
       "      <td>251G00000X</td>\n",
       "      <td>Y</td>\n",
       "      <td>1023011178</td>\n",
       "    </tr>\n",
       "  </tbody>\n",
       "</table>\n",
       "</div>"
      ],
      "text/plain": [
       "  Healthcare Provider Taxonomy Group Healthcare Provider Taxonomy Code  \\\n",
       "0                                NaN                        207X00000X   \n",
       "1                                NaN                        207RC0000X   \n",
       "2                                NaN                        251G00000X   \n",
       "4                                NaN                        174400000X   \n",
       "5                                NaN                        251G00000X   \n",
       "\n",
       "  Healthcare Provider Primary Taxonomy Switch         NPI  \n",
       "0                                           Y  1679576722  \n",
       "1                                           Y  1588667638  \n",
       "2                                           Y  1497758544  \n",
       "4                                           N  1215930367  \n",
       "5                                           Y  1023011178  "
      ]
     },
     "execution_count": 271,
     "metadata": {},
     "output_type": "execute_result"
    }
   ],
   "source": [
    "i = 0\n",
    "cols = []\n",
    "col_change = {\"NPI\" : \"NPI\"}\n",
    "for number in numbers:\n",
    "    print('working on taxonomy number', number)\n",
    "    ##Here update this to get the column names \n",
    "    for title in titles:\n",
    "        if title == KEY:\n",
    "            cols = np.append(cols, KEY)\n",
    "        else:\n",
    "            cols = np.append(title+\"_\"+str(number), cols)\n",
    "            col_change[title+\"_\"+str(number)] =  title\n",
    "    \n",
    "    ##Just grab those cols. \n",
    "    tbl = taxonomy[cols].reset_index(drop=True)\n",
    "    tbl.rename(columns=col_change, inplace=True)\n",
    "    tbl = tbl.dropna(subset=subset, how='all')\n",
    "    if i == 0:\n",
    "        taxonomy_table = tbl\n",
    "    else:\n",
    "        taxonomy_table = pd.concat([taxonomy_table, tbl])\n",
    "    i +=1\n",
    "    cols = []\n",
    "taxonomy_table.to_csv(\"cleaned_taxonomy.csv\", index=False)\n",
    "taxonomy_table.head()"
   ]
  },
  {
   "cell_type": "code",
   "execution_count": 272,
   "id": "e8f658bb-8b34-444c-8ca9-79ce715541f7",
   "metadata": {},
   "outputs": [
    {
     "name": "stdout",
     "output_type": "stream",
     "text": [
      "<class 'pandas.core.frame.DataFrame'>\n",
      "RangeIndex: 7054121 entries, 0 to 7054120\n",
      "Data columns (total 3 columns):\n",
      " #   Column                   Dtype \n",
      "---  ------                   ----- \n",
      " 0   Parent Organization LBN  object\n",
      " 1   Parent Organization TIN  object\n",
      " 2   NPI                      int64 \n",
      "dtypes: int64(1), object(2)\n",
      "memory usage: 161.5+ MB\n"
     ]
    }
   ],
   "source": [
    "parents = pd.read_csv('parent.csv', low_memory=False)\n",
    "parents.info()"
   ]
  },
  {
   "cell_type": "code",
   "execution_count": 273,
   "id": "e2a0af6d-c467-47a2-9e2f-4524c1e33bad",
   "metadata": {},
   "outputs": [
    {
     "data": {
      "text/plain": [
       "array(['Parent Organization LBN', 'Parent Organization TIN'], dtype=object)"
      ]
     },
     "execution_count": 273,
     "metadata": {},
     "output_type": "execute_result"
    }
   ],
   "source": [
    "columns = parents.columns.values\n",
    "subset = columns[columns != KEY]\n",
    "subset"
   ]
  },
  {
   "cell_type": "code",
   "execution_count": 274,
   "id": "5ed8be58-05ac-4bb7-abc6-ee909fd392cc",
   "metadata": {},
   "outputs": [],
   "source": [
    "parent_table = parents.dropna(subset=subset, how=\"all\").reset_index(drop=True)\n",
    "parent_table.to_csv(\"cleaned_parent.csv\", index=False)"
   ]
  },
  {
   "cell_type": "code",
   "execution_count": 3,
   "id": "2b37faab-2a6d-4478-9413-2582d09e31aa",
   "metadata": {},
   "outputs": [
    {
     "data": {
      "text/html": [
       "<div>\n",
       "<style scoped>\n",
       "    .dataframe tbody tr th:only-of-type {\n",
       "        vertical-align: middle;\n",
       "    }\n",
       "\n",
       "    .dataframe tbody tr th {\n",
       "        vertical-align: top;\n",
       "    }\n",
       "\n",
       "    .dataframe thead th {\n",
       "        text-align: right;\n",
       "    }\n",
       "</style>\n",
       "<table border=\"1\" class=\"dataframe\">\n",
       "  <thead>\n",
       "    <tr style=\"text-align: right;\">\n",
       "      <th></th>\n",
       "      <th>NPI</th>\n",
       "      <th>Endpoint Type</th>\n",
       "      <th>Endpoint Type Description</th>\n",
       "      <th>Endpoint</th>\n",
       "      <th>Affiliation</th>\n",
       "      <th>Endpoint Description</th>\n",
       "      <th>Affiliation Legal Business Name</th>\n",
       "      <th>Use Code</th>\n",
       "      <th>Use Description</th>\n",
       "      <th>Other Use Description</th>\n",
       "      <th>Content Type</th>\n",
       "      <th>Content Description</th>\n",
       "      <th>Other Content Description</th>\n",
       "      <th>Affiliation Address Line One</th>\n",
       "      <th>Affiliation Address Line Two</th>\n",
       "      <th>Affiliation Address City</th>\n",
       "      <th>Affiliation Address State</th>\n",
       "      <th>Affiliation Address Country</th>\n",
       "      <th>Affiliation Address Postal Code</th>\n",
       "    </tr>\n",
       "  </thead>\n",
       "  <tbody>\n",
       "    <tr>\n",
       "      <th>0</th>\n",
       "      <td>1154324382</td>\n",
       "      <td>DIRECT</td>\n",
       "      <td>Direct Messaging Address</td>\n",
       "      <td>rclose13800@MHSDIRECT.NET</td>\n",
       "      <td>N</td>\n",
       "      <td>NaN</td>\n",
       "      <td>NaN</td>\n",
       "      <td>NaN</td>\n",
       "      <td>NaN</td>\n",
       "      <td>NaN</td>\n",
       "      <td>NaN</td>\n",
       "      <td>NaN</td>\n",
       "      <td>NaN</td>\n",
       "      <td>3501 Johnson St</td>\n",
       "      <td>NaN</td>\n",
       "      <td>Hollywood</td>\n",
       "      <td>FL</td>\n",
       "      <td>US</td>\n",
       "      <td>330215421</td>\n",
       "    </tr>\n",
       "    <tr>\n",
       "      <th>1</th>\n",
       "      <td>1962405175</td>\n",
       "      <td>DIRECT</td>\n",
       "      <td>Direct Messaging Address</td>\n",
       "      <td>fredericstelzer@epgi.allscriptsdirect.net</td>\n",
       "      <td>N</td>\n",
       "      <td>NaN</td>\n",
       "      <td>NaN</td>\n",
       "      <td>NaN</td>\n",
       "      <td>NaN</td>\n",
       "      <td>NaN</td>\n",
       "      <td>NaN</td>\n",
       "      <td>NaN</td>\n",
       "      <td>NaN</td>\n",
       "      <td>1501 N Cedar Crest Blvd</td>\n",
       "      <td>suite 110</td>\n",
       "      <td>Allentown</td>\n",
       "      <td>PA</td>\n",
       "      <td>US</td>\n",
       "      <td>181042309</td>\n",
       "    </tr>\n",
       "    <tr>\n",
       "      <th>2</th>\n",
       "      <td>1699778894</td>\n",
       "      <td>DIRECT</td>\n",
       "      <td>Direct Messaging Address</td>\n",
       "      <td>aawomolo@direct.iuhealth.org</td>\n",
       "      <td>N</td>\n",
       "      <td>NaN</td>\n",
       "      <td>NaN</td>\n",
       "      <td>NaN</td>\n",
       "      <td>NaN</td>\n",
       "      <td>NaN</td>\n",
       "      <td>NaN</td>\n",
       "      <td>NaN</td>\n",
       "      <td>NaN</td>\n",
       "      <td>2401 W University Ave</td>\n",
       "      <td>NaN</td>\n",
       "      <td>Muncie</td>\n",
       "      <td>IN</td>\n",
       "      <td>US</td>\n",
       "      <td>47303</td>\n",
       "    </tr>\n",
       "    <tr>\n",
       "      <th>3</th>\n",
       "      <td>1841293040</td>\n",
       "      <td>CONNECT</td>\n",
       "      <td>CONNECT URL</td>\n",
       "      <td>Jennifer.Giles_1@direct.cyfluentchart.com</td>\n",
       "      <td>N</td>\n",
       "      <td>Direct Email</td>\n",
       "      <td>NaN</td>\n",
       "      <td>HIE</td>\n",
       "      <td>Health Information Exchange (HIE)</td>\n",
       "      <td>NaN</td>\n",
       "      <td>OTHER</td>\n",
       "      <td>Other</td>\n",
       "      <td>CMS esMD eMDR</td>\n",
       "      <td>31519 Winterplace Pkwy</td>\n",
       "      <td>Ste 1</td>\n",
       "      <td>Salisbury</td>\n",
       "      <td>MD</td>\n",
       "      <td>US</td>\n",
       "      <td>218041884</td>\n",
       "    </tr>\n",
       "    <tr>\n",
       "      <th>4</th>\n",
       "      <td>1306849591</td>\n",
       "      <td>DIRECT</td>\n",
       "      <td>Direct Messaging Address</td>\n",
       "      <td>svogel89246@direct.geisinger.edu</td>\n",
       "      <td>N</td>\n",
       "      <td>NaN</td>\n",
       "      <td>NaN</td>\n",
       "      <td>DIRECT</td>\n",
       "      <td>Direct</td>\n",
       "      <td>NaN</td>\n",
       "      <td>NaN</td>\n",
       "      <td>NaN</td>\n",
       "      <td>NaN</td>\n",
       "      <td>16 Woodbine Ln</td>\n",
       "      <td>NaN</td>\n",
       "      <td>Danville</td>\n",
       "      <td>PA</td>\n",
       "      <td>US</td>\n",
       "      <td>178218029</td>\n",
       "    </tr>\n",
       "  </tbody>\n",
       "</table>\n",
       "</div>"
      ],
      "text/plain": [
       "          NPI Endpoint Type Endpoint Type Description  \\\n",
       "0  1154324382        DIRECT  Direct Messaging Address   \n",
       "1  1962405175        DIRECT  Direct Messaging Address   \n",
       "2  1699778894        DIRECT  Direct Messaging Address   \n",
       "3  1841293040       CONNECT               CONNECT URL   \n",
       "4  1306849591        DIRECT  Direct Messaging Address   \n",
       "\n",
       "                                    Endpoint Affiliation Endpoint Description  \\\n",
       "0                  rclose13800@MHSDIRECT.NET           N                  NaN   \n",
       "1  fredericstelzer@epgi.allscriptsdirect.net           N                  NaN   \n",
       "2               aawomolo@direct.iuhealth.org           N                  NaN   \n",
       "3  Jennifer.Giles_1@direct.cyfluentchart.com           N         Direct Email   \n",
       "4           svogel89246@direct.geisinger.edu           N                  NaN   \n",
       "\n",
       "  Affiliation Legal Business Name Use Code                    Use Description  \\\n",
       "0                             NaN      NaN                                NaN   \n",
       "1                             NaN      NaN                                NaN   \n",
       "2                             NaN      NaN                                NaN   \n",
       "3                             NaN      HIE  Health Information Exchange (HIE)   \n",
       "4                             NaN   DIRECT                             Direct   \n",
       "\n",
       "  Other Use Description Content Type Content Description  \\\n",
       "0                   NaN          NaN                 NaN   \n",
       "1                   NaN          NaN                 NaN   \n",
       "2                   NaN          NaN                 NaN   \n",
       "3                   NaN        OTHER               Other   \n",
       "4                   NaN          NaN                 NaN   \n",
       "\n",
       "  Other Content Description Affiliation Address Line One  \\\n",
       "0                       NaN              3501 Johnson St   \n",
       "1                       NaN      1501 N Cedar Crest Blvd   \n",
       "2                       NaN        2401 W University Ave   \n",
       "3             CMS esMD eMDR       31519 Winterplace Pkwy   \n",
       "4                       NaN               16 Woodbine Ln   \n",
       "\n",
       "  Affiliation Address Line Two Affiliation Address City  \\\n",
       "0                          NaN                Hollywood   \n",
       "1                    suite 110                Allentown   \n",
       "2                          NaN                   Muncie   \n",
       "3                        Ste 1                Salisbury   \n",
       "4                          NaN                 Danville   \n",
       "\n",
       "  Affiliation Address State Affiliation Address Country  \\\n",
       "0                        FL                          US   \n",
       "1                        PA                          US   \n",
       "2                        IN                          US   \n",
       "3                        MD                          US   \n",
       "4                        PA                          US   \n",
       "\n",
       "  Affiliation Address Postal Code  \n",
       "0                       330215421  \n",
       "1                       181042309  \n",
       "2                           47303  \n",
       "3                       218041884  \n",
       "4                       178218029  "
      ]
     },
     "execution_count": 3,
     "metadata": {},
     "output_type": "execute_result"
    }
   ],
   "source": [
    "endpoint = pd.read_csv(\"endpoint.csv\", low_memory=False)\n",
    "endpoint.head()"
   ]
  },
  {
   "cell_type": "code",
   "execution_count": 4,
   "id": "4252c647-177f-4ee2-b2ad-e9e5c9faca36",
   "metadata": {},
   "outputs": [
    {
     "data": {
      "text/plain": [
       "Direct Messaging Address    206372\n",
       "CONNECT URL                  43537\n",
       "Other URL                    31465\n",
       "FHIR URL                     14606\n",
       "SOAP URL                     10404\n",
       "RESTful URL                    468\n",
       "Name: Endpoint Type Description, dtype: int64"
      ]
     },
     "execution_count": 4,
     "metadata": {},
     "output_type": "execute_result"
    }
   ],
   "source": [
    "endpoint[\"Endpoint Type Description\"].value_counts()"
   ]
  },
  {
   "cell_type": "code",
   "execution_count": 6,
   "id": "ea8cb958-b193-41f6-9004-0a807c169456",
   "metadata": {},
   "outputs": [
    {
     "name": "stdout",
     "output_type": "stream",
     "text": [
      "<class 'pandas.core.frame.DataFrame'>\n",
      "RangeIndex: 306989 entries, 0 to 306988\n",
      "Data columns (total 19 columns):\n",
      " #   Column                           Non-Null Count   Dtype \n",
      "---  ------                           --------------   ----- \n",
      " 0   NPI                              306989 non-null  int64 \n",
      " 1   Endpoint Type                    306852 non-null  object\n",
      " 2   Endpoint Type Description        306852 non-null  object\n",
      " 3   Endpoint                         303969 non-null  object\n",
      " 4   Affiliation                      306989 non-null  object\n",
      " 5   Endpoint Description             99127 non-null   object\n",
      " 6   Affiliation Legal Business Name  33432 non-null   object\n",
      " 7   Use Code                         150883 non-null  object\n",
      " 8   Use Description                  150883 non-null  object\n",
      " 9   Other Use Description            12185 non-null   object\n",
      " 10  Content Type                     109971 non-null  object\n",
      " 11  Content Description              109971 non-null  object\n",
      " 12  Other Content Description        62501 non-null   object\n",
      " 13  Affiliation Address Line One     306472 non-null  object\n",
      " 14  Affiliation Address Line Two     34956 non-null   object\n",
      " 15  Affiliation Address City         306475 non-null  object\n",
      " 16  Affiliation Address State        306483 non-null  object\n",
      " 17  Affiliation Address Country      306483 non-null  object\n",
      " 18  Affiliation Address Postal Code  306483 non-null  object\n",
      "dtypes: int64(1), object(18)\n",
      "memory usage: 44.5+ MB\n"
     ]
    }
   ],
   "source": [
    "endpoint.info()"
   ]
  },
  {
   "cell_type": "code",
   "execution_count": null,
   "id": "184ca386-2ebc-46b4-9616-b747fbbdb6ab",
   "metadata": {},
   "outputs": [],
   "source": []
  }
 ],
 "metadata": {
  "kernelspec": {
   "display_name": "Python 3",
   "language": "python",
   "name": "python3"
  },
  "language_info": {
   "codemirror_mode": {
    "name": "ipython",
    "version": 3
   },
   "file_extension": ".py",
   "mimetype": "text/x-python",
   "name": "python",
   "nbconvert_exporter": "python",
   "pygments_lexer": "ipython3",
   "version": "3.7.9"
  }
 },
 "nbformat": 4,
 "nbformat_minor": 5
}
